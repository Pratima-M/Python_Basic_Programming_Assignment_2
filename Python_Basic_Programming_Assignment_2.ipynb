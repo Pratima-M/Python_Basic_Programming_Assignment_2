{
 "cells": [
  {
   "cell_type": "markdown",
   "id": "529fb45c",
   "metadata": {},
   "source": [
    "1.\tWrite a Python program to convert kilometers to miles?"
   ]
  },
  {
   "cell_type": "code",
   "execution_count": 11,
   "id": "ca3788c6",
   "metadata": {},
   "outputs": [
    {
     "name": "stdout",
     "output_type": "stream",
     "text": [
      "enter kilometer to convert in miles = 10\n",
      "6.2\n"
     ]
    }
   ],
   "source": [
    "k = int(input('enter kilometer to convert in miles = '))\n",
    "conv = 0.62\n",
    "miles = k*conv\n",
    "print (miles)"
   ]
  },
  {
   "cell_type": "markdown",
   "id": "27e30f27",
   "metadata": {},
   "source": [
    "2.\tWrite a Python program to convert Celsius to Fahrenheit?"
   ]
  },
  {
   "cell_type": "code",
   "execution_count": 12,
   "id": "2fab2bf2",
   "metadata": {},
   "outputs": [
    {
     "name": "stdout",
     "output_type": "stream",
     "text": [
      "enter temp to convert in farhaniet = 10\n",
      "50.0\n"
     ]
    }
   ],
   "source": [
    "c = int(input('enter temp to convert in farhaniet = '))\n",
    "mult = 1.8\n",
    "add = 32\n",
    "f = (c*mult)+add\n",
    "print (f)"
   ]
  },
  {
   "cell_type": "markdown",
   "id": "d6fb1223",
   "metadata": {},
   "source": [
    "3.\tWrite a Python program to display calendar?"
   ]
  },
  {
   "cell_type": "code",
   "execution_count": 14,
   "id": "4ef21d11",
   "metadata": {},
   "outputs": [],
   "source": [
    "import calendar"
   ]
  },
  {
   "cell_type": "code",
   "execution_count": 17,
   "id": "9c32b821",
   "metadata": {},
   "outputs": [
    {
     "name": "stdout",
     "output_type": "stream",
     "text": [
      "enter year = 2021\n",
      "enter month = 11\n",
      "   November 2021\n",
      "Mo Tu We Th Fr Sa Su\n",
      " 1  2  3  4  5  6  7\n",
      " 8  9 10 11 12 13 14\n",
      "15 16 17 18 19 20 21\n",
      "22 23 24 25 26 27 28\n",
      "29 30\n",
      "\n"
     ]
    }
   ],
   "source": [
    "yy = int(input('enter year = '))\n",
    "mm = int (input('enter month = '))\n",
    "print (calendar.month(yy,mm))"
   ]
  },
  {
   "cell_type": "markdown",
   "id": "d9ec5909",
   "metadata": {},
   "source": [
    "4.\tWrite a Python program to solve quadratic equation?"
   ]
  },
  {
   "cell_type": "markdown",
   "id": "ba3df9b4",
   "metadata": {},
   "source": [
    "5.\tWrite a Python program to swap two variables without temp variable?"
   ]
  },
  {
   "cell_type": "code",
   "execution_count": 20,
   "id": "46e01519",
   "metadata": {},
   "outputs": [
    {
     "name": "stdout",
     "output_type": "stream",
     "text": [
      "before swapping a: 1 b: 2\n",
      "after swapping a: 2 b: 1\n"
     ]
    }
   ],
   "source": [
    "a = 1\n",
    "b = 2\n",
    "print ('before swapping', 'a:', a, 'b:', b)\n",
    "\n",
    "a,b = b, a\n",
    "print ('after swapping', 'a:', a, 'b:',  b)"
   ]
  },
  {
   "cell_type": "code",
   "execution_count": 21,
   "id": "23708543",
   "metadata": {},
   "outputs": [
    {
     "data": {
      "text/plain": [
       "'C:\\\\Users\\\\prati'"
      ]
     },
     "execution_count": 21,
     "metadata": {},
     "output_type": "execute_result"
    }
   ],
   "source": [
    "pwd()"
   ]
  },
  {
   "cell_type": "code",
   "execution_count": null,
   "id": "043fb113",
   "metadata": {},
   "outputs": [],
   "source": []
  }
 ],
 "metadata": {
  "kernelspec": {
   "display_name": "Python 3",
   "language": "python",
   "name": "python3"
  },
  "language_info": {
   "codemirror_mode": {
    "name": "ipython",
    "version": 3
   },
   "file_extension": ".py",
   "mimetype": "text/x-python",
   "name": "python",
   "nbconvert_exporter": "python",
   "pygments_lexer": "ipython3",
   "version": "3.8.8"
  }
 },
 "nbformat": 4,
 "nbformat_minor": 5
}
